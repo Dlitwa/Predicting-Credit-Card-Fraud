{
 "cells": [
  {
   "cell_type": "markdown",
   "id": "85608c3d",
   "metadata": {},
   "source": [
    "# Overview"
   ]
  },
  {
   "cell_type": "markdown",
   "id": "b0c7f8ae",
   "metadata": {},
   "source": [
    "This notebook is created for training purposes only. Dataset comes from https://www.kaggle.com/kartik2112/fraud-detection\n",
    "\n",
    "Note - according to Kaggle, this simulated data and does not include actual credit card numbers ,names, and transactions. Just to be safe, will drop first name, last name, and cc_num field from import data"
   ]
  },
  {
   "cell_type": "markdown",
   "id": "0ba09334",
   "metadata": {},
   "source": [
    "# Import and General Analysis"
   ]
  },
  {
   "cell_type": "code",
   "execution_count": 1,
   "id": "092828dc",
   "metadata": {},
   "outputs": [
    {
     "data": {
      "text/html": [
       "<div>\n",
       "<style scoped>\n",
       "    .dataframe tbody tr th:only-of-type {\n",
       "        vertical-align: middle;\n",
       "    }\n",
       "\n",
       "    .dataframe tbody tr th {\n",
       "        vertical-align: top;\n",
       "    }\n",
       "\n",
       "    .dataframe thead th {\n",
       "        text-align: right;\n",
       "    }\n",
       "</style>\n",
       "<table border=\"1\" class=\"dataframe\">\n",
       "  <thead>\n",
       "    <tr style=\"text-align: right;\">\n",
       "      <th></th>\n",
       "      <th>Unnamed: 0</th>\n",
       "      <th>trans_date_trans_time</th>\n",
       "      <th>merchant</th>\n",
       "      <th>category</th>\n",
       "      <th>amt</th>\n",
       "      <th>gender</th>\n",
       "      <th>street</th>\n",
       "      <th>city</th>\n",
       "      <th>state</th>\n",
       "      <th>zip</th>\n",
       "      <th>lat</th>\n",
       "      <th>long</th>\n",
       "      <th>city_pop</th>\n",
       "      <th>job</th>\n",
       "      <th>dob</th>\n",
       "      <th>trans_num</th>\n",
       "      <th>unix_time</th>\n",
       "      <th>merch_lat</th>\n",
       "      <th>merch_long</th>\n",
       "      <th>is_fraud</th>\n",
       "    </tr>\n",
       "  </thead>\n",
       "  <tbody>\n",
       "    <tr>\n",
       "      <th>0</th>\n",
       "      <td>0</td>\n",
       "      <td>2019-01-01 00:00:18</td>\n",
       "      <td>fraud_Rippin, Kub and Mann</td>\n",
       "      <td>misc_net</td>\n",
       "      <td>4.97</td>\n",
       "      <td>F</td>\n",
       "      <td>561 Perry Cove</td>\n",
       "      <td>Moravian Falls</td>\n",
       "      <td>NC</td>\n",
       "      <td>28654</td>\n",
       "      <td>36.0788</td>\n",
       "      <td>-81.1781</td>\n",
       "      <td>3495</td>\n",
       "      <td>Psychologist, counselling</td>\n",
       "      <td>1988-03-09</td>\n",
       "      <td>0b242abb623afc578575680df30655b9</td>\n",
       "      <td>1325376018</td>\n",
       "      <td>36.011293</td>\n",
       "      <td>-82.048315</td>\n",
       "      <td>0</td>\n",
       "    </tr>\n",
       "    <tr>\n",
       "      <th>1</th>\n",
       "      <td>1</td>\n",
       "      <td>2019-01-01 00:00:44</td>\n",
       "      <td>fraud_Heller, Gutmann and Zieme</td>\n",
       "      <td>grocery_pos</td>\n",
       "      <td>107.23</td>\n",
       "      <td>F</td>\n",
       "      <td>43039 Riley Greens Suite 393</td>\n",
       "      <td>Orient</td>\n",
       "      <td>WA</td>\n",
       "      <td>99160</td>\n",
       "      <td>48.8878</td>\n",
       "      <td>-118.2105</td>\n",
       "      <td>149</td>\n",
       "      <td>Special educational needs teacher</td>\n",
       "      <td>1978-06-21</td>\n",
       "      <td>1f76529f8574734946361c461b024d99</td>\n",
       "      <td>1325376044</td>\n",
       "      <td>49.159047</td>\n",
       "      <td>-118.186462</td>\n",
       "      <td>0</td>\n",
       "    </tr>\n",
       "    <tr>\n",
       "      <th>2</th>\n",
       "      <td>2</td>\n",
       "      <td>2019-01-01 00:00:51</td>\n",
       "      <td>fraud_Lind-Buckridge</td>\n",
       "      <td>entertainment</td>\n",
       "      <td>220.11</td>\n",
       "      <td>M</td>\n",
       "      <td>594 White Dale Suite 530</td>\n",
       "      <td>Malad City</td>\n",
       "      <td>ID</td>\n",
       "      <td>83252</td>\n",
       "      <td>42.1808</td>\n",
       "      <td>-112.2620</td>\n",
       "      <td>4154</td>\n",
       "      <td>Nature conservation officer</td>\n",
       "      <td>1962-01-19</td>\n",
       "      <td>a1a22d70485983eac12b5b88dad1cf95</td>\n",
       "      <td>1325376051</td>\n",
       "      <td>43.150704</td>\n",
       "      <td>-112.154481</td>\n",
       "      <td>0</td>\n",
       "    </tr>\n",
       "    <tr>\n",
       "      <th>3</th>\n",
       "      <td>3</td>\n",
       "      <td>2019-01-01 00:01:16</td>\n",
       "      <td>fraud_Kutch, Hermiston and Farrell</td>\n",
       "      <td>gas_transport</td>\n",
       "      <td>45.00</td>\n",
       "      <td>M</td>\n",
       "      <td>9443 Cynthia Court Apt. 038</td>\n",
       "      <td>Boulder</td>\n",
       "      <td>MT</td>\n",
       "      <td>59632</td>\n",
       "      <td>46.2306</td>\n",
       "      <td>-112.1138</td>\n",
       "      <td>1939</td>\n",
       "      <td>Patent attorney</td>\n",
       "      <td>1967-01-12</td>\n",
       "      <td>6b849c168bdad6f867558c3793159a81</td>\n",
       "      <td>1325376076</td>\n",
       "      <td>47.034331</td>\n",
       "      <td>-112.561071</td>\n",
       "      <td>0</td>\n",
       "    </tr>\n",
       "    <tr>\n",
       "      <th>4</th>\n",
       "      <td>4</td>\n",
       "      <td>2019-01-01 00:03:06</td>\n",
       "      <td>fraud_Keeling-Crist</td>\n",
       "      <td>misc_pos</td>\n",
       "      <td>41.96</td>\n",
       "      <td>M</td>\n",
       "      <td>408 Bradley Rest</td>\n",
       "      <td>Doe Hill</td>\n",
       "      <td>VA</td>\n",
       "      <td>24433</td>\n",
       "      <td>38.4207</td>\n",
       "      <td>-79.4629</td>\n",
       "      <td>99</td>\n",
       "      <td>Dance movement psychotherapist</td>\n",
       "      <td>1986-03-28</td>\n",
       "      <td>a41d7549acf90789359a9aa5346dcb46</td>\n",
       "      <td>1325376186</td>\n",
       "      <td>38.674999</td>\n",
       "      <td>-78.632459</td>\n",
       "      <td>0</td>\n",
       "    </tr>\n",
       "  </tbody>\n",
       "</table>\n",
       "</div>"
      ],
      "text/plain": [
       "   Unnamed: 0 trans_date_trans_time                            merchant  \\\n",
       "0           0   2019-01-01 00:00:18          fraud_Rippin, Kub and Mann   \n",
       "1           1   2019-01-01 00:00:44     fraud_Heller, Gutmann and Zieme   \n",
       "2           2   2019-01-01 00:00:51                fraud_Lind-Buckridge   \n",
       "3           3   2019-01-01 00:01:16  fraud_Kutch, Hermiston and Farrell   \n",
       "4           4   2019-01-01 00:03:06                 fraud_Keeling-Crist   \n",
       "\n",
       "        category     amt gender                        street            city  \\\n",
       "0       misc_net    4.97      F                561 Perry Cove  Moravian Falls   \n",
       "1    grocery_pos  107.23      F  43039 Riley Greens Suite 393          Orient   \n",
       "2  entertainment  220.11      M      594 White Dale Suite 530      Malad City   \n",
       "3  gas_transport   45.00      M   9443 Cynthia Court Apt. 038         Boulder   \n",
       "4       misc_pos   41.96      M              408 Bradley Rest        Doe Hill   \n",
       "\n",
       "  state    zip      lat      long  city_pop  \\\n",
       "0    NC  28654  36.0788  -81.1781      3495   \n",
       "1    WA  99160  48.8878 -118.2105       149   \n",
       "2    ID  83252  42.1808 -112.2620      4154   \n",
       "3    MT  59632  46.2306 -112.1138      1939   \n",
       "4    VA  24433  38.4207  -79.4629        99   \n",
       "\n",
       "                                 job         dob  \\\n",
       "0          Psychologist, counselling  1988-03-09   \n",
       "1  Special educational needs teacher  1978-06-21   \n",
       "2        Nature conservation officer  1962-01-19   \n",
       "3                    Patent attorney  1967-01-12   \n",
       "4     Dance movement psychotherapist  1986-03-28   \n",
       "\n",
       "                          trans_num   unix_time  merch_lat  merch_long  \\\n",
       "0  0b242abb623afc578575680df30655b9  1325376018  36.011293  -82.048315   \n",
       "1  1f76529f8574734946361c461b024d99  1325376044  49.159047 -118.186462   \n",
       "2  a1a22d70485983eac12b5b88dad1cf95  1325376051  43.150704 -112.154481   \n",
       "3  6b849c168bdad6f867558c3793159a81  1325376076  47.034331 -112.561071   \n",
       "4  a41d7549acf90789359a9aa5346dcb46  1325376186  38.674999  -78.632459   \n",
       "\n",
       "   is_fraud  \n",
       "0         0  \n",
       "1         0  \n",
       "2         0  \n",
       "3         0  \n",
       "4         0  "
      ]
     },
     "execution_count": 1,
     "metadata": {},
     "output_type": "execute_result"
    }
   ],
   "source": [
    "#import data and review top 10 rows\n",
    "\n",
    "import pandas as pd\n",
    "import numpy as np\n",
    "\n",
    "df = pd.read_csv('C:/fraudTrain.csv')\n",
    "\n",
    "df = df.drop(['cc_num', 'first', 'last'], axis=1)\n",
    "\n",
    "df.head()"
   ]
  },
  {
   "cell_type": "code",
   "execution_count": 2,
   "id": "a5188d62",
   "metadata": {},
   "outputs": [
    {
     "data": {
      "text/plain": [
       "(1296675, 20)"
      ]
     },
     "execution_count": 2,
     "metadata": {},
     "output_type": "execute_result"
    }
   ],
   "source": [
    "#examine dataset size\n",
    "df.shape"
   ]
  },
  {
   "cell_type": "code",
   "execution_count": 3,
   "id": "3a80ef3a",
   "metadata": {},
   "outputs": [
    {
     "name": "stdout",
     "output_type": "stream",
     "text": [
      "Unnamed: 0               0\n",
      "trans_date_trans_time    0\n",
      "merchant                 0\n",
      "category                 0\n",
      "amt                      0\n",
      "gender                   0\n",
      "street                   0\n",
      "city                     0\n",
      "state                    0\n",
      "zip                      0\n",
      "lat                      0\n",
      "long                     0\n",
      "city_pop                 0\n",
      "job                      0\n",
      "dob                      0\n",
      "trans_num                0\n",
      "unix_time                0\n",
      "merch_lat                0\n",
      "merch_long               0\n",
      "is_fraud                 0\n",
      "dtype: int64\n"
     ]
    }
   ],
   "source": [
    "#identify any missing values\n",
    "print(df.isna().sum())"
   ]
  },
  {
   "cell_type": "code",
   "execution_count": 4,
   "id": "08623f21",
   "metadata": {},
   "outputs": [
    {
     "data": {
      "text/plain": [
       "Unnamed: 0                 int64\n",
       "trans_date_trans_time     object\n",
       "merchant                  object\n",
       "category                  object\n",
       "amt                      float64\n",
       "gender                    object\n",
       "street                    object\n",
       "city                      object\n",
       "state                     object\n",
       "zip                        int64\n",
       "lat                      float64\n",
       "long                     float64\n",
       "city_pop                   int64\n",
       "job                       object\n",
       "dob                       object\n",
       "trans_num                 object\n",
       "unix_time                  int64\n",
       "merch_lat                float64\n",
       "merch_long               float64\n",
       "is_fraud                   int64\n",
       "dtype: object"
      ]
     },
     "execution_count": 4,
     "metadata": {},
     "output_type": "execute_result"
    }
   ],
   "source": [
    "#explore datatypes to fix\n",
    "\n",
    "df.dtypes"
   ]
  },
  {
   "cell_type": "code",
   "execution_count": 5,
   "id": "63f3c382",
   "metadata": {},
   "outputs": [],
   "source": [
    "#drop 'Unamed : 0' since this is just index repeated\n",
    "\n",
    "df = df.drop('Unnamed: 0', axis =1)\n",
    "\n",
    "#change dtypes\n",
    "\n",
    "df['zip'] = df['zip'].astype('str')\n"
   ]
  },
  {
   "cell_type": "code",
   "execution_count": 6,
   "id": "cc2689cc",
   "metadata": {},
   "outputs": [
    {
     "name": "stdout",
     "output_type": "stream",
     "text": [
      "0    1289169\n",
      "1       7506\n",
      "Name: is_fraud, dtype: int64\n"
     ]
    }
   ],
   "source": [
    "print(df['is_fraud'].value_counts())"
   ]
  },
  {
   "cell_type": "markdown",
   "id": "13b84141",
   "metadata": {},
   "source": [
    "We have a clear class imbalance for our target variable..will need to keep this in mind as we create our models"
   ]
  },
  {
   "cell_type": "markdown",
   "id": "9c218b09",
   "metadata": {},
   "source": [
    "# Visual and Statistical Analysis for Features"
   ]
  },
  {
   "cell_type": "code",
   "execution_count": 7,
   "id": "7befe163",
   "metadata": {},
   "outputs": [
    {
     "data": {
      "image/png": "[encoded data removed]",
      "text/plain": [
       "<Figure size 432x288 with 1 Axes>"
      ]
     },
     "metadata": {
      "needs_background": "light"
     },
     "output_type": "display_data"
    }
   ],
   "source": [
    "#examine the amt field\n",
    "import matplotlib.pyplot as plt\n",
    "import seaborn as sns\n",
    "\n",
    "fig, ax = plt.subplots()\n",
    "sns.histplot(data=df, x='amt', ax=ax, hue='is_fraud',  multiple=\"stack\")\n",
    "ax.set_xlim(0,300)   #set because most transactions are under 300\n",
    "plt.show()"
   ]
  },
  {
   "cell_type": "code",
   "execution_count": 8,
   "id": "ae59a8de",
   "metadata": {},
   "outputs": [
    {
     "data": {
      "image/png": "[encoded data removed]",
      "text/plain": [
       "<Figure size 432x288 with 1 Axes>"
      ]
     },
     "metadata": {
      "needs_background": "light"
     },
     "output_type": "display_data"
    }
   ],
   "source": [
    "#examine field for just fraud transactions\n",
    "import matplotlib.pyplot as plt\n",
    "import seaborn as sns\n",
    "\n",
    "fraud_trans = df[df['is_fraud'] == 1].reset_index()\n",
    "\n",
    "fig, ax = plt.subplots()\n",
    "sns.histplot(data=fraud_trans, x='amt', ax=ax)\n",
    "ax.set_xlim(0,500) \n",
    "plt.show()"
   ]
  },
  {
   "cell_type": "markdown",
   "id": "6f14d2fa",
   "metadata": {},
   "source": [
    "Looks like amts over 200 may be a predictor of fraud based on the 2 charts above"
   ]
  },
  {
   "cell_type": "code",
   "execution_count": 9,
   "id": "660db271",
   "metadata": {},
   "outputs": [
    {
     "data": {
      "text/plain": [
       "<seaborn.axisgrid.FacetGrid at 0x1c66a63d6c8>"
      ]
     },
     "execution_count": 9,
     "metadata": {},
     "output_type": "execute_result"
    },
    {
     "data": {
      "image/png": "[encoded data removed]",
      "text/plain": [
       "<Figure size 1124.62x720 with 2 Axes>"
      ]
     },
     "metadata": {
      "needs_background": "light"
     },
     "output_type": "display_data"
    }
   ],
   "source": [
    "#examine category for both fraud non fraud transactions, color by gender\n",
    "\n",
    "ax = sns.catplot(x=\"category\", col=\"is_fraud\",\n",
    "                data=df, kind=\"count\", hue = 'gender',\n",
    "                height=10, aspect=.75, sharey=False)\n",
    "\n",
    "ax.set_xticklabels(rotation = 30)\n"
   ]
  },
  {
   "cell_type": "markdown",
   "id": "d805581e",
   "metadata": {},
   "source": [
    "appears grocery and shopping are associated with more fraud..also interesting that males appear to have more fraud"
   ]
  },
  {
   "cell_type": "code",
   "execution_count": 10,
   "id": "8967e9ca",
   "metadata": {},
   "outputs": [
    {
     "data": {
      "text/plain": [
       "<seaborn.axisgrid.FacetGrid at 0x1c668aa72c8>"
      ]
     },
     "execution_count": 10,
     "metadata": {},
     "output_type": "execute_result"
    },
    {
     "data": {
      "image/png": "[encoded data removed]",
      "text/plain": [
       "<Figure size 1080x720 with 2 Axes>"
      ]
     },
     "metadata": {
      "needs_background": "light"
     },
     "output_type": "display_data"
    }
   ],
   "source": [
    "#examine categories without the gender for hue\n",
    "\n",
    "ax = sns.catplot(x=\"category\", col=\"is_fraud\",\n",
    "                data=df, kind=\"count\",\n",
    "                height=10, aspect=.75, sharey=False, color='red')\n",
    "\n",
    "ax.set_xticklabels(rotation = 30)"
   ]
  },
  {
   "cell_type": "markdown",
   "id": "158db078",
   "metadata": {},
   "source": [
    "Categories appear to be different for fraud cases..will one hot encode this category for model creation or flag just the grocery transactions"
   ]
  },
  {
   "cell_type": "code",
   "execution_count": 11,
   "id": "44cd260f",
   "metadata": {},
   "outputs": [
    {
     "data": {
      "image/png": "[encoded data removed]",
      "text/plain": [
       "<Figure size 476.625x216 with 2 Axes>"
      ]
     },
     "metadata": {
      "needs_background": "light"
     },
     "output_type": "display_data"
    }
   ],
   "source": [
    "#examine overall disbursement of male/female for non vs fraud\n",
    "\n",
    "ax = sns.catplot(y=\"gender\", col=\"is_fraud\",\n",
    "                data=df, kind=\"count\", hue = 'gender',\n",
    "                height=3, aspect=1, sharex=False)\n",
    "\n"
   ]
  },
  {
   "cell_type": "markdown",
   "id": "df1eb574",
   "metadata": {},
   "source": [
    "So Male transactions are slightly higher but will need to examine further with chi square analysis"
   ]
  },
  {
   "cell_type": "code",
   "execution_count": 12,
   "id": "06bd6629",
   "metadata": {},
   "outputs": [
    {
     "name": "stdout",
     "output_type": "stream",
     "text": [
      "is_fraud       0     1\n",
      "gender                \n",
      "F         706128  3735\n",
      "M         583041  3771\n"
     ]
    },
    {
     "data": {
      "text/plain": [
       "(75.51456622055794,\n",
       " 3.627211385830374e-18,\n",
       " 1,\n",
       " array([[705753.85030713,   4109.14969287],\n",
       "        [583415.14969287,   3396.85030713]]))"
      ]
     },
     "execution_count": 12,
     "metadata": {},
     "output_type": "execute_result"
    }
   ],
   "source": [
    "#chi square analysis to see if any categorical features have predictive power\n",
    "from scipy import stats\n",
    "\n",
    "crosstab = pd.crosstab(df['gender'], df['is_fraud'])\n",
    "print(crosstab)\n",
    "stats.chi2_contingency(crosstab)"
   ]
  },
  {
   "cell_type": "markdown",
   "id": "39fcdea9",
   "metadata": {},
   "source": [
    "since the p-value from the chi square is less than 0.5, we can assume Gender does have predictive power for determining fraud in order date"
   ]
  },
  {
   "cell_type": "code",
   "execution_count": 13,
   "id": "2af32b45",
   "metadata": {},
   "outputs": [],
   "source": [
    "#convert transaction date/time to datetime format and extract hour and weekday from transaction date\n",
    "from datetime import datetime as date\n",
    "df['trans_date_trans_time'] = df['trans_date_trans_time'].astype('datetime64[ns]')\n",
    "\n",
    "df['hour'] = df['trans_date_trans_time'].dt.hour\n",
    "df['weekday'] = df['trans_date_trans_time'].dt.strftime(\"%A\")"
   ]
  },
  {
   "cell_type": "code",
   "execution_count": 14,
   "id": "04019e45",
   "metadata": {},
   "outputs": [
    {
     "data": {
      "text/html": [
       "<div>\n",
       "<style scoped>\n",
       "    .dataframe tbody tr th:only-of-type {\n",
       "        vertical-align: middle;\n",
       "    }\n",
       "\n",
       "    .dataframe tbody tr th {\n",
       "        vertical-align: top;\n",
       "    }\n",
       "\n",
       "    .dataframe thead th {\n",
       "        text-align: right;\n",
       "    }\n",
       "</style>\n",
       "<table border=\"1\" class=\"dataframe\">\n",
       "  <thead>\n",
       "    <tr style=\"text-align: right;\">\n",
       "      <th></th>\n",
       "      <th>trans_date_trans_time</th>\n",
       "      <th>merchant</th>\n",
       "      <th>category</th>\n",
       "      <th>amt</th>\n",
       "      <th>gender</th>\n",
       "      <th>street</th>\n",
       "      <th>city</th>\n",
       "      <th>state</th>\n",
       "      <th>zip</th>\n",
       "      <th>lat</th>\n",
       "      <th>...</th>\n",
       "      <th>city_pop</th>\n",
       "      <th>job</th>\n",
       "      <th>dob</th>\n",
       "      <th>trans_num</th>\n",
       "      <th>unix_time</th>\n",
       "      <th>merch_lat</th>\n",
       "      <th>merch_long</th>\n",
       "      <th>is_fraud</th>\n",
       "      <th>hour</th>\n",
       "      <th>weekday</th>\n",
       "    </tr>\n",
       "  </thead>\n",
       "  <tbody>\n",
       "    <tr>\n",
       "      <th>0</th>\n",
       "      <td>2019-01-01 00:00:18</td>\n",
       "      <td>fraud_Rippin, Kub and Mann</td>\n",
       "      <td>misc_net</td>\n",
       "      <td>4.97</td>\n",
       "      <td>F</td>\n",
       "      <td>561 Perry Cove</td>\n",
       "      <td>Moravian Falls</td>\n",
       "      <td>NC</td>\n",
       "      <td>28654</td>\n",
       "      <td>36.0788</td>\n",
       "      <td>...</td>\n",
       "      <td>3495</td>\n",
       "      <td>Psychologist, counselling</td>\n",
       "      <td>1988-03-09</td>\n",
       "      <td>0b242abb623afc578575680df30655b9</td>\n",
       "      <td>1325376018</td>\n",
       "      <td>36.011293</td>\n",
       "      <td>-82.048315</td>\n",
       "      <td>0</td>\n",
       "      <td>0</td>\n",
       "      <td>Tuesday</td>\n",
       "    </tr>\n",
       "    <tr>\n",
       "      <th>1</th>\n",
       "      <td>2019-01-01 00:00:44</td>\n",
       "      <td>fraud_Heller, Gutmann and Zieme</td>\n",
       "      <td>grocery_pos</td>\n",
       "      <td>107.23</td>\n",
       "      <td>F</td>\n",
       "      <td>43039 Riley Greens Suite 393</td>\n",
       "      <td>Orient</td>\n",
       "      <td>WA</td>\n",
       "      <td>99160</td>\n",
       "      <td>48.8878</td>\n",
       "      <td>...</td>\n",
       "      <td>149</td>\n",
       "      <td>Special educational needs teacher</td>\n",
       "      <td>1978-06-21</td>\n",
       "      <td>1f76529f8574734946361c461b024d99</td>\n",
       "      <td>1325376044</td>\n",
       "      <td>49.159047</td>\n",
       "      <td>-118.186462</td>\n",
       "      <td>0</td>\n",
       "      <td>0</td>\n",
       "      <td>Tuesday</td>\n",
       "    </tr>\n",
       "    <tr>\n",
       "      <th>2</th>\n",
       "      <td>2019-01-01 00:00:51</td>\n",
       "      <td>fraud_Lind-Buckridge</td>\n",
       "      <td>entertainment</td>\n",
       "      <td>220.11</td>\n",
       "      <td>M</td>\n",
       "      <td>594 White Dale Suite 530</td>\n",
       "      <td>Malad City</td>\n",
       "      <td>ID</td>\n",
       "      <td>83252</td>\n",
       "      <td>42.1808</td>\n",
       "      <td>...</td>\n",
       "      <td>4154</td>\n",
       "      <td>Nature conservation officer</td>\n",
       "      <td>1962-01-19</td>\n",
       "      <td>a1a22d70485983eac12b5b88dad1cf95</td>\n",
       "      <td>1325376051</td>\n",
       "      <td>43.150704</td>\n",
       "      <td>-112.154481</td>\n",
       "      <td>0</td>\n",
       "      <td>0</td>\n",
       "      <td>Tuesday</td>\n",
       "    </tr>\n",
       "    <tr>\n",
       "      <th>3</th>\n",
       "      <td>2019-01-01 00:01:16</td>\n",
       "      <td>fraud_Kutch, Hermiston and Farrell</td>\n",
       "      <td>gas_transport</td>\n",
       "      <td>45.00</td>\n",
       "      <td>M</td>\n",
       "      <td>9443 Cynthia Court Apt. 038</td>\n",
       "      <td>Boulder</td>\n",
       "      <td>MT</td>\n",
       "      <td>59632</td>\n",
       "      <td>46.2306</td>\n",
       "      <td>...</td>\n",
       "      <td>1939</td>\n",
       "      <td>Patent attorney</td>\n",
       "      <td>1967-01-12</td>\n",
       "      <td>6b849c168bdad6f867558c3793159a81</td>\n",
       "      <td>1325376076</td>\n",
       "      <td>47.034331</td>\n",
       "      <td>-112.561071</td>\n",
       "      <td>0</td>\n",
       "      <td>0</td>\n",
       "      <td>Tuesday</td>\n",
       "    </tr>\n",
       "    <tr>\n",
       "      <th>4</th>\n",
       "      <td>2019-01-01 00:03:06</td>\n",
       "      <td>fraud_Keeling-Crist</td>\n",
       "      <td>misc_pos</td>\n",
       "      <td>41.96</td>\n",
       "      <td>M</td>\n",
       "      <td>408 Bradley Rest</td>\n",
       "      <td>Doe Hill</td>\n",
       "      <td>VA</td>\n",
       "      <td>24433</td>\n",
       "      <td>38.4207</td>\n",
       "      <td>...</td>\n",
       "      <td>99</td>\n",
       "      <td>Dance movement psychotherapist</td>\n",
       "      <td>1986-03-28</td>\n",
       "      <td>a41d7549acf90789359a9aa5346dcb46</td>\n",
       "      <td>1325376186</td>\n",
       "      <td>38.674999</td>\n",
       "      <td>-78.632459</td>\n",
       "      <td>0</td>\n",
       "      <td>0</td>\n",
       "      <td>Tuesday</td>\n",
       "    </tr>\n",
       "  </tbody>\n",
       "</table>\n",
       "<p>5 rows × 21 columns</p>\n",
       "</div>"
      ],
      "text/plain": [
       "  trans_date_trans_time                            merchant       category  \\\n",
       "0   2019-01-01 00:00:18          fraud_Rippin, Kub and Mann       misc_net   \n",
       "1   2019-01-01 00:00:44     fraud_Heller, Gutmann and Zieme    grocery_pos   \n",
       "2   2019-01-01 00:00:51                fraud_Lind-Buckridge  entertainment   \n",
       "3   2019-01-01 00:01:16  fraud_Kutch, Hermiston and Farrell  gas_transport   \n",
       "4   2019-01-01 00:03:06                 fraud_Keeling-Crist       misc_pos   \n",
       "\n",
       "      amt gender                        street            city state    zip  \\\n",
       "0    4.97      F                561 Perry Cove  Moravian Falls    NC  28654   \n",
       "1  107.23      F  43039 Riley Greens Suite 393          Orient    WA  99160   \n",
       "2  220.11      M      594 White Dale Suite 530      Malad City    ID  83252   \n",
       "3   45.00      M   9443 Cynthia Court Apt. 038         Boulder    MT  59632   \n",
       "4   41.96      M              408 Bradley Rest        Doe Hill    VA  24433   \n",
       "\n",
       "       lat  ...  city_pop                                job         dob  \\\n",
       "0  36.0788  ...      3495          Psychologist, counselling  1988-03-09   \n",
       "1  48.8878  ...       149  Special educational needs teacher  1978-06-21   \n",
       "2  42.1808  ...      4154        Nature conservation officer  1962-01-19   \n",
       "3  46.2306  ...      1939                    Patent attorney  1967-01-12   \n",
       "4  38.4207  ...        99     Dance movement psychotherapist  1986-03-28   \n",
       "\n",
       "                          trans_num   unix_time  merch_lat  merch_long  \\\n",
       "0  0b242abb623afc578575680df30655b9  1325376018  36.011293  -82.048315   \n",
       "1  1f76529f8574734946361c461b024d99  1325376044  49.159047 -118.186462   \n",
       "2  a1a22d70485983eac12b5b88dad1cf95  1325376051  43.150704 -112.154481   \n",
       "3  6b849c168bdad6f867558c3793159a81  1325376076  47.034331 -112.561071   \n",
       "4  a41d7549acf90789359a9aa5346dcb46  1325376186  38.674999  -78.632459   \n",
       "\n",
       "   is_fraud  hour  weekday  \n",
       "0         0     0  Tuesday  \n",
       "1         0     0  Tuesday  \n",
       "2         0     0  Tuesday  \n",
       "3         0     0  Tuesday  \n",
       "4         0     0  Tuesday  \n",
       "\n",
       "[5 rows x 21 columns]"
      ]
     },
     "execution_count": 14,
     "metadata": {},
     "output_type": "execute_result"
    }
   ],
   "source": [
    "df.head()"
   ]
  },
  {
   "cell_type": "code",
   "execution_count": 14,
   "id": "78cb62bf",
   "metadata": {},
   "outputs": [
    {
     "data": {
      "text/plain": [
       "<seaborn.axisgrid.FacetGrid at 0x1c60f203fc8>"
      ]
     },
     "execution_count": 14,
     "metadata": {},
     "output_type": "execute_result"
    },
    {
     "data": {
      "image/png": "[encoded data removed]",
      "text/plain": [
       "<Figure size 1080x720 with 2 Axes>"
      ]
     },
     "metadata": {
      "needs_background": "light"
     },
     "output_type": "display_data"
    }
   ],
   "source": [
    "#examine weekday for both fraud non fraud transactions\n",
    "\n",
    "ax = sns.catplot(x=\"weekday\", col=\"is_fraud\",\n",
    "                data=df, kind=\"count\",\n",
    "                height=10, aspect=.75, sharey=False, color='blue')\n",
    "\n",
    "ax.set_xticklabels(rotation = 30)"
   ]
  },
  {
   "cell_type": "markdown",
   "id": "79b0a794",
   "metadata": {},
   "source": [
    "Appears saturdays might have a higher incidence of fraud when compared to overall. Examine with a chi-square analysis"
   ]
  },
  {
   "cell_type": "code",
   "execution_count": 15,
   "id": "9a122bbc",
   "metadata": {},
   "outputs": [
    {
     "name": "stdout",
     "output_type": "stream",
     "text": [
      "is_fraud        0     1\n",
      "Saturday               \n",
      "0         1089439  6279\n",
      "1          199730  1227\n"
     ]
    },
    {
     "data": {
      "text/plain": [
       "(4.090893867017753,\n",
       " 0.04311483511067811,\n",
       " 1,\n",
       " array([[1089375.2700885,    6342.7299115],\n",
       "        [ 199793.7299115,    1163.2700885]]))"
      ]
     },
     "execution_count": 15,
     "metadata": {},
     "output_type": "execute_result"
    }
   ],
   "source": [
    "#chi square for saturday fraud\n",
    "\n",
    "def weekday(x):\n",
    "    if x == 'Saturday':\n",
    "        return 1\n",
    "    else:\n",
    "        return 0\n",
    "\n",
    "df['Saturday'] = df['weekday'].apply(weekday)\n",
    "\n",
    "crosstab = pd.crosstab(df['Saturday'], df['is_fraud'])\n",
    "print(crosstab)\n",
    "stats.chi2_contingency(crosstab)"
   ]
  },
  {
   "cell_type": "markdown",
   "id": "4ee43516",
   "metadata": {},
   "source": [
    "It does appear we Saturday has predictive power for fraud..will include in model creation"
   ]
  },
  {
   "cell_type": "code",
   "execution_count": 16,
   "id": "6c037e93",
   "metadata": {},
   "outputs": [
    {
     "data": {
      "text/plain": [
       "<seaborn.axisgrid.FacetGrid at 0x1c628074a88>"
      ]
     },
     "execution_count": 16,
     "metadata": {},
     "output_type": "execute_result"
    },
    {
     "data": {
      "image/png": "[encoded data removed]",
      "text/plain": [
       "<Figure size 1440x720 with 2 Axes>"
      ]
     },
     "metadata": {
      "needs_background": "light"
     },
     "output_type": "display_data"
    }
   ],
   "source": [
    "#examine states\n",
    "\n",
    "#map states to region. Python dictionary mapping two letter state abbreviations to their respective regions of the country (i.e. Midwest, North East, etc.) N - North East W - West M - Mid West S - South O - Other\n",
    "\n",
    "states = {\n",
    "        'AK': 'O',\n",
    "        'AL': 'S',\n",
    "        'AR': 'S',\n",
    "        'AS': 'O',\n",
    "        'AZ': 'W',\n",
    "        'CA': 'W',\n",
    "        'CO': 'W',\n",
    "        'CT': 'N',\n",
    "        'DC': 'N',\n",
    "        'DE': 'N',\n",
    "        'FL': 'S',\n",
    "        'GA': 'S',\n",
    "        'GU': 'O',\n",
    "        'HI': 'O',\n",
    "        'IA': 'M',\n",
    "        'ID': 'W',\n",
    "        'IL': 'M',\n",
    "        'IN': 'M',\n",
    "        'KS': 'M',\n",
    "        'KY': 'S',\n",
    "        'LA': 'S',\n",
    "        'MA': 'N',\n",
    "        'MD': 'N',\n",
    "        'ME': 'N',\n",
    "        'MI': 'W',\n",
    "        'MN': 'M',\n",
    "        'MO': 'M',\n",
    "        'MP': 'O',\n",
    "        'MS': 'S',\n",
    "        'MT': 'W',\n",
    "        'NA': 'O',\n",
    "        'NC': 'S',\n",
    "        'ND': 'M',\n",
    "        'NE': 'W',\n",
    "        'NH': 'N',\n",
    "        'NJ': 'N',\n",
    "        'NM': 'W',\n",
    "        'NV': 'W',\n",
    "        'NY': 'N',\n",
    "        'OH': 'M',\n",
    "        'OK': 'S',\n",
    "        'OR': 'W',\n",
    "        'PA': 'N',\n",
    "        'PR': 'O',\n",
    "        'RI': 'N',\n",
    "        'SC': 'S',\n",
    "        'SD': 'M',\n",
    "        'TN': 'S',\n",
    "        'TX': 'S',\n",
    "        'UT': 'W',\n",
    "        'VA': 'S',\n",
    "        'VI': 'O',\n",
    "        'VT': 'N',\n",
    "        'WA': 'W',\n",
    "        'WI': 'M',\n",
    "        'WV': 'S',\n",
    "        'WY': 'W'\n",
    "}\n",
    "\n",
    "df['region']= df['state'].map(states)\n",
    "\n",
    "ax = sns.catplot(x=\"region\", col=\"is_fraud\",\n",
    "                data=df, kind=\"count\",\n",
    "                height=10, aspect=1, sharey=False)\n",
    "\n",
    "ax.set_xticklabels(rotation = 30)"
   ]
  },
  {
   "cell_type": "markdown",
   "id": "a92e7bf5",
   "metadata": {},
   "source": [
    "pretty equal disbursments by region"
   ]
  },
  {
   "cell_type": "code",
   "execution_count": 17,
   "id": "61036267",
   "metadata": {},
   "outputs": [
    {
     "data": {
      "text/plain": [
       "<AxesSubplot:>"
      ]
     },
     "execution_count": 17,
     "metadata": {},
     "output_type": "execute_result"
    },
    {
     "data": {
      "image/png": "[encoded data removed]",
      "text/plain": [
       "<Figure size 792x648 with 2 Axes>"
      ]
     },
     "metadata": {
      "needs_background": "light"
     },
     "output_type": "display_data"
    }
   ],
   "source": [
    "#show a correlation matrix, and add age client\n",
    "import matplotlib.pyplot as plt\n",
    "from datetime import timedelta\n",
    "df['dob'] = pd.to_datetime(df['dob'], format='%Y-%m-%d')\n",
    "df['age'] = (date.today() - df['dob']) // timedelta(days=365.2425)\n",
    "\n",
    "corr = df.corr()\n",
    "\n",
    "mask = np.triu(np.ones_like(corr, dtype=bool))\n",
    "\n",
    "f, ax = plt.subplots(figsize=(11, 9))\n",
    "\n",
    "cmap = sns.diverging_palette(230, 20, as_cmap=True)\n",
    "\n",
    "sns.heatmap(corr, mask=mask, cmap=cmap, vmax=.3, center=0,\n",
    "            square=True, linewidths=.5, cbar_kws={\"shrink\": .5})"
   ]
  },
  {
   "cell_type": "markdown",
   "id": "6eafc3cd",
   "metadata": {},
   "source": [
    "no strong correlations with the target variable. slight correlation with the amt. Also good to know there is no colinearity to be aware of"
   ]
  },
  {
   "cell_type": "code",
   "execution_count": 18,
   "id": "3605042c",
   "metadata": {},
   "outputs": [
    {
     "data": {
      "text/plain": [
       "<AxesSubplot:>"
      ]
     },
     "execution_count": 18,
     "metadata": {},
     "output_type": "execute_result"
    },
    {
     "data": {
      "image/png": "[encoded data removed]",
      "text/plain": [
       "<Figure size 792x648 with 2 Axes>"
      ]
     },
     "metadata": {
      "needs_background": "light"
     },
     "output_type": "display_data"
    }
   ],
   "source": [
    "#examine just fraud transactions for correlations\n",
    "\n",
    "\n",
    "fraud_trans['dob'] = pd.to_datetime(fraud_trans['dob'], format='%Y-%m-%d')\n",
    "fraud_trans['age'] = (date.today() - fraud_trans['dob']) // timedelta(days=365.2425)\n",
    "\n",
    "corr = df.corr()\n",
    "\n",
    "mask = np.triu(np.ones_like(corr, dtype=bool))\n",
    "\n",
    "f, ax = plt.subplots(figsize=(11, 9))\n",
    "\n",
    "cmap = sns.diverging_palette(230, 20, as_cmap=True)\n",
    "\n",
    "sns.heatmap(corr, mask=mask, cmap=cmap, vmax=.3, center=0,\n",
    "            square=True, linewidths=.5, cbar_kws={\"shrink\": .5})\n"
   ]
  },
  {
   "cell_type": "code",
   "execution_count": 19,
   "id": "be6c63e1",
   "metadata": {},
   "outputs": [
    {
     "data": {
      "text/plain": [
       "(array([ 486., 1047., 1014.,  995., 1202., 1049.,  634.,  414.,  392.,\n",
       "         273.]),\n",
       " array([17. , 24.9, 32.8, 40.7, 48.6, 56.5, 64.4, 72.3, 80.2, 88.1, 96. ]),\n",
       " <BarContainer object of 10 artists>)"
      ]
     },
     "execution_count": 19,
     "metadata": {},
     "output_type": "execute_result"
    },
    {
     "data": {
      "image/png": "[encoded data removed]",
      "text/plain": [
       "<Figure size 432x288 with 1 Axes>"
      ]
     },
     "metadata": {
      "needs_background": "light"
     },
     "output_type": "display_data"
    }
   ],
   "source": [
    "plt.hist(fraud_trans['age'])"
   ]
  },
  {
   "cell_type": "code",
   "execution_count": 20,
   "id": "e4cf2908",
   "metadata": {},
   "outputs": [
    {
     "data": {
      "text/plain": [
       "(array([ 83820., 173108., 245168., 229856., 203503., 125014., 107165.,\n",
       "         56448.,  39158.,  33435.]),\n",
       " array([17., 25., 33., 41., 49., 57., 65., 73., 81., 89., 97.]),\n",
       " <BarContainer object of 10 artists>)"
      ]
     },
     "execution_count": 20,
     "metadata": {},
     "output_type": "execute_result"
    },
    {
     "data": {
      "image/png": "[encoded data removed]",
      "text/plain": [
       "<Figure size 432x288 with 1 Axes>"
      ]
     },
     "metadata": {
      "needs_background": "light"
     },
     "output_type": "display_data"
    }
   ],
   "source": [
    "plt.hist(df['age'])"
   ]
  },
  {
   "cell_type": "markdown",
   "id": "34bbfd75",
   "metadata": {},
   "source": [
    "Appears age is something that can bucketed further for the model..50-60 years old appears to be associated with higher fraud. examine hour of transaction further"
   ]
  },
  {
   "cell_type": "code",
   "execution_count": 21,
   "id": "30d349b7",
   "metadata": {},
   "outputs": [
    {
     "data": {
      "text/plain": [
       "(array([1918.,  655.,  100.,  152.,   82.,  147.,  241.,  159.,  143.,\n",
       "        3909.]),\n",
       " array([ 0. ,  2.3,  4.6,  6.9,  9.2, 11.5, 13.8, 16.1, 18.4, 20.7, 23. ]),\n",
       " <BarContainer object of 10 artists>)"
      ]
     },
     "execution_count": 21,
     "metadata": {},
     "output_type": "execute_result"
    },
    {
     "data": {
      "image/png": "[encoded data removed]",
      "text/plain": [
       "<Figure size 432x288 with 1 Axes>"
      ]
     },
     "metadata": {
      "needs_background": "light"
     },
     "output_type": "display_data"
    }
   ],
   "source": [
    "fraud_trans['trans_date_trans_time'] = fraud_trans['trans_date_trans_time'].astype('datetime64[ns]')\n",
    "\n",
    "fraud_trans['hour'] = fraud_trans['trans_date_trans_time'].dt.hour\n",
    "plt.hist(fraud_trans['hour'])"
   ]
  },
  {
   "cell_type": "code",
   "execution_count": 22,
   "id": "b4d4c0be",
   "metadata": {},
   "outputs": [
    {
     "data": {
      "text/plain": [
       "(array([128027.,  84632.,  84471., 126893.,  84353., 130571., 196002.,\n",
       "        131501., 130606., 199619.]),\n",
       " array([ 0. ,  2.3,  4.6,  6.9,  9.2, 11.5, 13.8, 16.1, 18.4, 20.7, 23. ]),\n",
       " <BarContainer object of 10 artists>)"
      ]
     },
     "execution_count": 22,
     "metadata": {},
     "output_type": "execute_result"
    },
    {
     "data": {
      "image/png": "[encoded data removed]",
      "text/plain": [
       "<Figure size 432x288 with 1 Axes>"
      ]
     },
     "metadata": {
      "needs_background": "light"
     },
     "output_type": "display_data"
    }
   ],
   "source": [
    "plt.hist(df['hour'])"
   ]
  },
  {
   "cell_type": "markdown",
   "id": "4e52e551",
   "metadata": {},
   "source": [
    "appears fraud occurs between 10pm and 4 am more often"
   ]
  },
  {
   "cell_type": "markdown",
   "id": "b14b00c8",
   "metadata": {},
   "source": [
    "# Feature Engineering"
   ]
  },
  {
   "cell_type": "markdown",
   "id": "f11ae7e3",
   "metadata": {},
   "source": [
    "Features to create - Amt > 200, Saturday field (1 for saturday, else 0- already completed), late hour field, age > 50 field. flag for grocery categories\n"
   ]
  },
  {
   "cell_type": "code",
   "execution_count": 23,
   "id": "ebd6f1fe",
   "metadata": {},
   "outputs": [],
   "source": [
    "#Create field for Amt>200 since this was identified as an indicator for fraud\n",
    "\n",
    "def amt_200(x):\n",
    "    if x > 200:\n",
    "        return 1\n",
    "    else:\n",
    "        return 0\n",
    "\n",
    "df['amt_200'] = df['amt'].apply(amt_200)\n"
   ]
  },
  {
   "cell_type": "code",
   "execution_count": 24,
   "id": "b1d1fde9",
   "metadata": {},
   "outputs": [],
   "source": [
    "#create field to flag transactions that occur after 10 am and before 4 pm - increased volume of fraud\n",
    "\n",
    "def after_hour_trans(x):\n",
    "    if x > 19 & x < 5 :\n",
    "        return 1\n",
    "    else:\n",
    "        return 0\n",
    "\n",
    "df['after_hours'] = df['hour'].apply(after_hour_trans)\n"
   ]
  },
  {
   "cell_type": "code",
   "execution_count": 25,
   "id": "9dc7c498",
   "metadata": {},
   "outputs": [],
   "source": [
    "#create field to flag customer age > 50 - increased volume of fraud\n",
    "\n",
    "def age_50(x):\n",
    "    if x > 50 :\n",
    "        return 1\n",
    "    else:\n",
    "        return 0\n",
    "\n",
    "df['age_50'] = df['age'].apply(age_50)"
   ]
  },
  {
   "cell_type": "code",
   "execution_count": 30,
   "id": "b057ca5e",
   "metadata": {},
   "outputs": [],
   "source": [
    "#create field to flag categories of grocery_pos and grocery_net\n",
    "\n",
    "def grocery(x):\n",
    "    if x == 'grocery_pos' :\n",
    "        return 1\n",
    "    if x == 'grocery_net':\n",
    "        return 1\n",
    "    else:\n",
    "        return 0\n",
    "\n",
    "df['grocery_fl'] = df['category'].apply(grocery)"
   ]
  },
  {
   "cell_type": "code",
   "execution_count": 31,
   "id": "3530d035",
   "metadata": {},
   "outputs": [
    {
     "data": {
      "text/html": [
       "<div>\n",
       "<style scoped>\n",
       "    .dataframe tbody tr th:only-of-type {\n",
       "        vertical-align: middle;\n",
       "    }\n",
       "\n",
       "    .dataframe tbody tr th {\n",
       "        vertical-align: top;\n",
       "    }\n",
       "\n",
       "    .dataframe thead th {\n",
       "        text-align: right;\n",
       "    }\n",
       "</style>\n",
       "<table border=\"1\" class=\"dataframe\">\n",
       "  <thead>\n",
       "    <tr style=\"text-align: right;\">\n",
       "      <th></th>\n",
       "      <th>trans_date_trans_time</th>\n",
       "      <th>merchant</th>\n",
       "      <th>category</th>\n",
       "      <th>amt</th>\n",
       "      <th>gender</th>\n",
       "      <th>street</th>\n",
       "      <th>city</th>\n",
       "      <th>state</th>\n",
       "      <th>zip</th>\n",
       "      <th>lat</th>\n",
       "      <th>...</th>\n",
       "      <th>is_fraud</th>\n",
       "      <th>hour</th>\n",
       "      <th>weekday</th>\n",
       "      <th>Saturday</th>\n",
       "      <th>region</th>\n",
       "      <th>age</th>\n",
       "      <th>amt_200</th>\n",
       "      <th>after_hours</th>\n",
       "      <th>age_50</th>\n",
       "      <th>grocery_fl</th>\n",
       "    </tr>\n",
       "  </thead>\n",
       "  <tbody>\n",
       "    <tr>\n",
       "      <th>0</th>\n",
       "      <td>2019-01-01 00:00:18</td>\n",
       "      <td>fraud_Rippin, Kub and Mann</td>\n",
       "      <td>misc_net</td>\n",
       "      <td>4.97</td>\n",
       "      <td>F</td>\n",
       "      <td>561 Perry Cove</td>\n",
       "      <td>Moravian Falls</td>\n",
       "      <td>NC</td>\n",
       "      <td>28654</td>\n",
       "      <td>36.0788</td>\n",
       "      <td>...</td>\n",
       "      <td>0</td>\n",
       "      <td>0</td>\n",
       "      <td>Tuesday</td>\n",
       "      <td>0</td>\n",
       "      <td>S</td>\n",
       "      <td>34</td>\n",
       "      <td>0</td>\n",
       "      <td>0</td>\n",
       "      <td>0</td>\n",
       "      <td>0</td>\n",
       "    </tr>\n",
       "    <tr>\n",
       "      <th>1</th>\n",
       "      <td>2019-01-01 00:00:44</td>\n",
       "      <td>fraud_Heller, Gutmann and Zieme</td>\n",
       "      <td>grocery_pos</td>\n",
       "      <td>107.23</td>\n",
       "      <td>F</td>\n",
       "      <td>43039 Riley Greens Suite 393</td>\n",
       "      <td>Orient</td>\n",
       "      <td>WA</td>\n",
       "      <td>99160</td>\n",
       "      <td>48.8878</td>\n",
       "      <td>...</td>\n",
       "      <td>0</td>\n",
       "      <td>0</td>\n",
       "      <td>Tuesday</td>\n",
       "      <td>0</td>\n",
       "      <td>W</td>\n",
       "      <td>43</td>\n",
       "      <td>0</td>\n",
       "      <td>0</td>\n",
       "      <td>0</td>\n",
       "      <td>1</td>\n",
       "    </tr>\n",
       "    <tr>\n",
       "      <th>2</th>\n",
       "      <td>2019-01-01 00:00:51</td>\n",
       "      <td>fraud_Lind-Buckridge</td>\n",
       "      <td>entertainment</td>\n",
       "      <td>220.11</td>\n",
       "      <td>M</td>\n",
       "      <td>594 White Dale Suite 530</td>\n",
       "      <td>Malad City</td>\n",
       "      <td>ID</td>\n",
       "      <td>83252</td>\n",
       "      <td>42.1808</td>\n",
       "      <td>...</td>\n",
       "      <td>0</td>\n",
       "      <td>0</td>\n",
       "      <td>Tuesday</td>\n",
       "      <td>0</td>\n",
       "      <td>W</td>\n",
       "      <td>60</td>\n",
       "      <td>1</td>\n",
       "      <td>0</td>\n",
       "      <td>1</td>\n",
       "      <td>0</td>\n",
       "    </tr>\n",
       "    <tr>\n",
       "      <th>3</th>\n",
       "      <td>2019-01-01 00:01:16</td>\n",
       "      <td>fraud_Kutch, Hermiston and Farrell</td>\n",
       "      <td>gas_transport</td>\n",
       "      <td>45.00</td>\n",
       "      <td>M</td>\n",
       "      <td>9443 Cynthia Court Apt. 038</td>\n",
       "      <td>Boulder</td>\n",
       "      <td>MT</td>\n",
       "      <td>59632</td>\n",
       "      <td>46.2306</td>\n",
       "      <td>...</td>\n",
       "      <td>0</td>\n",
       "      <td>0</td>\n",
       "      <td>Tuesday</td>\n",
       "      <td>0</td>\n",
       "      <td>W</td>\n",
       "      <td>55</td>\n",
       "      <td>0</td>\n",
       "      <td>0</td>\n",
       "      <td>1</td>\n",
       "      <td>0</td>\n",
       "    </tr>\n",
       "    <tr>\n",
       "      <th>4</th>\n",
       "      <td>2019-01-01 00:03:06</td>\n",
       "      <td>fraud_Keeling-Crist</td>\n",
       "      <td>misc_pos</td>\n",
       "      <td>41.96</td>\n",
       "      <td>M</td>\n",
       "      <td>408 Bradley Rest</td>\n",
       "      <td>Doe Hill</td>\n",
       "      <td>VA</td>\n",
       "      <td>24433</td>\n",
       "      <td>38.4207</td>\n",
       "      <td>...</td>\n",
       "      <td>0</td>\n",
       "      <td>0</td>\n",
       "      <td>Tuesday</td>\n",
       "      <td>0</td>\n",
       "      <td>S</td>\n",
       "      <td>35</td>\n",
       "      <td>0</td>\n",
       "      <td>0</td>\n",
       "      <td>0</td>\n",
       "      <td>0</td>\n",
       "    </tr>\n",
       "  </tbody>\n",
       "</table>\n",
       "<p>5 rows × 28 columns</p>\n",
       "</div>"
      ],
      "text/plain": [
       "  trans_date_trans_time                            merchant       category  \\\n",
       "0   2019-01-01 00:00:18          fraud_Rippin, Kub and Mann       misc_net   \n",
       "1   2019-01-01 00:00:44     fraud_Heller, Gutmann and Zieme    grocery_pos   \n",
       "2   2019-01-01 00:00:51                fraud_Lind-Buckridge  entertainment   \n",
       "3   2019-01-01 00:01:16  fraud_Kutch, Hermiston and Farrell  gas_transport   \n",
       "4   2019-01-01 00:03:06                 fraud_Keeling-Crist       misc_pos   \n",
       "\n",
       "      amt gender                        street            city state    zip  \\\n",
       "0    4.97      F                561 Perry Cove  Moravian Falls    NC  28654   \n",
       "1  107.23      F  43039 Riley Greens Suite 393          Orient    WA  99160   \n",
       "2  220.11      M      594 White Dale Suite 530      Malad City    ID  83252   \n",
       "3   45.00      M   9443 Cynthia Court Apt. 038         Boulder    MT  59632   \n",
       "4   41.96      M              408 Bradley Rest        Doe Hill    VA  24433   \n",
       "\n",
       "       lat  ...  is_fraud  hour  weekday Saturday region  age  amt_200  \\\n",
       "0  36.0788  ...         0     0  Tuesday        0      S   34        0   \n",
       "1  48.8878  ...         0     0  Tuesday        0      W   43        0   \n",
       "2  42.1808  ...         0     0  Tuesday        0      W   60        1   \n",
       "3  46.2306  ...         0     0  Tuesday        0      W   55        0   \n",
       "4  38.4207  ...         0     0  Tuesday        0      S   35        0   \n",
       "\n",
       "   after_hours  age_50  grocery_fl  \n",
       "0            0       0           0  \n",
       "1            0       0           1  \n",
       "2            0       1           0  \n",
       "3            0       1           0  \n",
       "4            0       0           0  \n",
       "\n",
       "[5 rows x 28 columns]"
      ]
     },
     "execution_count": 31,
     "metadata": {},
     "output_type": "execute_result"
    }
   ],
   "source": [
    "df.head()"
   ]
  },
  {
   "cell_type": "markdown",
   "id": "4809f986",
   "metadata": {},
   "source": [
    "# Pipeline & More Feature Engineering"
   ]
  },
  {
   "cell_type": "markdown",
   "id": "4f291c63",
   "metadata": {},
   "source": [
    "Feature Engineering for pipeline - Drop unused columns, Scale Amt field, One Hot Encode Gender/Category, SMOTE for unbalanced data"
   ]
  },
  {
   "cell_type": "code",
   "execution_count": 32,
   "id": "2e136e82",
   "metadata": {},
   "outputs": [],
   "source": [
    "#remove columns\n",
    "from sklearn.preprocessing import FunctionTransformer\n",
    "\n",
    "def drop_cols(df,cols_to_drop):\n",
    "\n",
    "    df_copy = df.copy()\n",
    "    \n",
    "    ret_df = df_copy.drop(columns=cols_to_drop)\n",
    "    return ret_df\n",
    "\n",
    "cols_to_drop = ['trans_date_trans_time', 'category', 'merchant', 'street', 'city', 'state', 'zip', 'lat', 'long', 'city_pop', 'job', 'dob', \n",
    "               'trans_num', 'unix_time', 'merch_lat', 'merch_long', 'hour', 'weekday', 'region', 'age']\n",
    "drop_cols_trans = FunctionTransformer(drop_cols, kw_args={'cols_to_drop':cols_to_drop})\n"
   ]
  },
  {
   "cell_type": "code",
   "execution_count": 33,
   "id": "f11ab3c0",
   "metadata": {},
   "outputs": [],
   "source": [
    "#encode categorical variables\n",
    "cats = ['gender']\n",
    "from sklearn.preprocessing import OneHotEncoder\n",
    "categorical_transformer = OneHotEncoder(handle_unknown=\"ignore\", sparse=False)"
   ]
  },
  {
   "cell_type": "code",
   "execution_count": 34,
   "id": "92b390ed",
   "metadata": {},
   "outputs": [],
   "source": [
    "#scale numerical fields\n",
    "\n",
    "from sklearn.preprocessing import StandardScaler\n",
    "\n",
    "numerical_feats = ['amt']\n",
    "scaler = StandardScaler()"
   ]
  },
  {
   "cell_type": "code",
   "execution_count": 35,
   "id": "cc29d429",
   "metadata": {},
   "outputs": [],
   "source": [
    "#create pipeline with SMOTE since we have a class imbalance for target variable is_fraud\n",
    "#try pipeline with Logistic Regression Model First\n",
    "\n",
    "from imblearn.over_sampling import SMOTE\n",
    "from imblearn.pipeline import Pipeline as imbpipeline\n",
    "from sklearn.compose import ColumnTransformer\n",
    "from sklearn.linear_model import LogisticRegression\n",
    "\n",
    "\n",
    "preprocessor = ColumnTransformer(transformers=[\n",
    "    ('scaler', scaler, numerical_feats),\n",
    "    (\"encoder\", categorical_transformer, cats)],\n",
    "    remainder='passthrough')\n",
    "\n",
    "\n",
    "\n",
    "pipeline = imbpipeline(steps = [['drop_cols', drop_cols_trans],\n",
    "                                ['preprocessor', preprocessor],\n",
    "                                ['smote', SMOTE(random_state=11)],\n",
    "                                ['model', LogisticRegression()]])"
   ]
  },
  {
   "cell_type": "markdown",
   "id": "9b8a6b9d",
   "metadata": {},
   "source": [
    "# Split Data"
   ]
  },
  {
   "cell_type": "code",
   "execution_count": 36,
   "id": "ffee92bd",
   "metadata": {},
   "outputs": [],
   "source": [
    "X= df.drop(['is_fraud'],axis=1)\n",
    "y= df['is_fraud']\n",
    "\n",
    "from sklearn.model_selection import train_test_split\n",
    "X_train, X_test, y_train, y_test = train_test_split(X, y, test_size=0.3, random_state=0)"
   ]
  },
  {
   "cell_type": "markdown",
   "id": "215ead1f",
   "metadata": {},
   "source": [
    "# Logistic Regression"
   ]
  },
  {
   "cell_type": "code",
   "execution_count": 37,
   "id": "1dfb7d90",
   "metadata": {},
   "outputs": [],
   "source": [
    "\n",
    "pipeline.fit(X_train, y_train)\n",
    "\n",
    "y_pred = pipeline.predict(X_test)"
   ]
  },
  {
   "cell_type": "code",
   "execution_count": 38,
   "id": "15b8dda1",
   "metadata": {},
   "outputs": [
    {
     "name": "stdout",
     "output_type": "stream",
     "text": [
      "confusion Matrix is :nn [[369944  16783]\n",
      " [   521   1755]]\n",
      "f1 score for base model is :  0.16863649466705102\n",
      "roc_auc score for base model is : 0.9132793772274692\n",
      "average precision score :  0.30632378085403955\n"
     ]
    },
    {
     "data": {
      "image/png": "[encoded data removed]",
      "text/plain": [
       "<Figure size 432x288 with 1 Axes>"
      ]
     },
     "metadata": {
      "needs_background": "light"
     },
     "output_type": "display_data"
    },
    {
     "name": "stdout",
     "output_type": "stream",
     "text": [
      "              precision    recall  f1-score   support\n",
      "\n",
      "           0       1.00      0.96      0.98    386727\n",
      "           1       0.09      0.77      0.17      2276\n",
      "\n",
      "    accuracy                           0.96    389003\n",
      "   macro avg       0.55      0.86      0.57    389003\n",
      "weighted avg       0.99      0.96      0.97    389003\n",
      "\n"
     ]
    }
   ],
   "source": [
    "# examine base model\n",
    "\n",
    "y_pred_proba = pipeline.predict_proba(X_test)[:,1]\n",
    "\n",
    "from sklearn.metrics import average_precision_score, precision_score, classification_report, precision_recall_curve, ConfusionMatrixDisplay, confusion_matrix, f1_score, roc_auc_score\n",
    "cm = confusion_matrix(y_test, y_pred)\n",
    "print(\"confusion Matrix is :nn\",cm)\n",
    "\n",
    "\n",
    "print(\"f1 score for base model is : \" , f1_score(y_test,y_pred))\n",
    "\n",
    "print(\"roc_auc score for base model is :\" , roc_auc_score(y_test, y_pred_proba))\n",
    "\n",
    "#calculate average precision score which is the AUC for the precision recall curve\n",
    "print(\"average precision score : \", average_precision_score(y_test, y_pred_proba))\n",
    "\n",
    "precision, recall, th = precision_recall_curve(y_test, y_pred_proba)\n",
    "plt.plot(recall, precision, marker='.')\n",
    "\n",
    "plt.xlabel(\"Recall\")\n",
    "plt.ylabel(\"Precision\")\n",
    "plt.show()\n",
    "\n",
    "print(classification_report(y_test, y_pred))"
   ]
  },
  {
   "cell_type": "markdown",
   "id": "a1e2a1dd",
   "metadata": {},
   "source": [
    "Logistic Regression did an ok job of identifying fraudulent transactions but identified alot of false positives as evidenced by the poor precision for value of 1"
   ]
  },
  {
   "cell_type": "markdown",
   "id": "2e904453",
   "metadata": {},
   "source": [
    "# Random Forest"
   ]
  },
  {
   "cell_type": "code",
   "execution_count": 39,
   "id": "b0b48adf",
   "metadata": {},
   "outputs": [
    {
     "name": "stdout",
     "output_type": "stream",
     "text": [
      "confusion Matrix is :nn [[378466   8261]\n",
      " [   590   1686]]\n",
      "f1 score for base model is :  0.27587335351386727\n",
      "roc_auc score for base model is : 0.9072284381634174\n",
      "average precision score :  0.28436507556142226\n"
     ]
    },
    {
     "data": {
      "image/png": "[encoded data removed]",
      "text/plain": [
       "<Figure size 432x288 with 1 Axes>"
      ]
     },
     "metadata": {
      "needs_background": "light"
     },
     "output_type": "display_data"
    },
    {
     "name": "stdout",
     "output_type": "stream",
     "text": [
      "              precision    recall  f1-score   support\n",
      "\n",
      "           0       1.00      0.98      0.99    386727\n",
      "           1       0.17      0.74      0.28      2276\n",
      "\n",
      "    accuracy                           0.98    389003\n",
      "   macro avg       0.58      0.86      0.63    389003\n",
      "weighted avg       0.99      0.98      0.98    389003\n",
      "\n"
     ]
    }
   ],
   "source": [
    "from sklearn.ensemble import RandomForestClassifier\n",
    "\n",
    "\n",
    "pipeline = imbpipeline(steps = [['drop_cols', drop_cols_trans],\n",
    "                                ['preprocessor', preprocessor],\n",
    "                                ['smote', SMOTE(random_state=11)],\n",
    "                                ['model', RandomForestClassifier()]])\n",
    "\n",
    "\n",
    "pipeline.fit(X_train, y_train)\n",
    "\n",
    "y_pred = pipeline.predict(X_test)\n",
    "\n",
    "# examine model\n",
    "\n",
    "y_pred_proba = pipeline.predict_proba(X_test)[:,1]\n",
    "\n",
    "\n",
    "cm = confusion_matrix(y_test, y_pred)\n",
    "print(\"confusion Matrix is :nn\",cm)\n",
    "\n",
    "\n",
    "print(\"f1 score for base model is : \" , f1_score(y_test,y_pred))\n",
    "\n",
    "print(\"roc_auc score for base model is :\" , roc_auc_score(y_test, y_pred_proba))\n",
    "\n",
    "#calculate average precision score which is the AUC for the precision recall curve\n",
    "print(\"average precision score : \", average_precision_score(y_test, y_pred_proba))\n",
    "\n",
    "precision, recall, th = precision_recall_curve(y_test, y_pred_proba)\n",
    "plt.plot(recall, precision, marker='.')\n",
    "\n",
    "plt.xlabel(\"Recall\")\n",
    "plt.ylabel(\"Precision\")\n",
    "plt.show()\n",
    "\n",
    "print(classification_report(y_test, y_pred))"
   ]
  },
  {
   "cell_type": "markdown",
   "id": "3fcbeb2e",
   "metadata": {},
   "source": [
    "Random Forest Improved overall but still has a low precision"
   ]
  },
  {
   "cell_type": "markdown",
   "id": "7f286367",
   "metadata": {},
   "source": [
    "# Gradient Boosting"
   ]
  },
  {
   "cell_type": "code",
   "execution_count": 40,
   "id": "45b35443",
   "metadata": {},
   "outputs": [
    {
     "name": "stdout",
     "output_type": "stream",
     "text": [
      "confusion Matrix is :nn [[354847  31880]\n",
      " [   215   2061]]\n",
      "f1 score for base model is :  0.1138139547726206\n",
      "roc_auc score for base model is : 0.9760832895098732\n",
      "average precision score :  0.6151355912831712\n"
     ]
    },
    {
     "data": {
      "image/png": "[encoded data removed]",
      "text/plain": [
       "<Figure size 432x288 with 1 Axes>"
      ]
     },
     "metadata": {
      "needs_background": "light"
     },
     "output_type": "display_data"
    },
    {
     "name": "stdout",
     "output_type": "stream",
     "text": [
      "              precision    recall  f1-score   support\n",
      "\n",
      "           0       1.00      0.92      0.96    386727\n",
      "           1       0.06      0.91      0.11      2276\n",
      "\n",
      "    accuracy                           0.92    389003\n",
      "   macro avg       0.53      0.91      0.54    389003\n",
      "weighted avg       0.99      0.92      0.95    389003\n",
      "\n"
     ]
    }
   ],
   "source": [
    "from sklearn.ensemble import GradientBoostingClassifier\n",
    "\n",
    "pipeline = imbpipeline(steps = [['drop_cols', drop_cols_trans],\n",
    "                                ['preprocessor', preprocessor],\n",
    "                                ['smote', SMOTE(random_state=11)],\n",
    "                                ['model', GradientBoostingClassifier()]])\n",
    "\n",
    "\n",
    "pipeline.fit(X_train, y_train)\n",
    "\n",
    "y_pred = pipeline.predict(X_test)\n",
    "\n",
    "# examine model\n",
    "\n",
    "y_pred_proba = pipeline.predict_proba(X_test)[:,1]\n",
    "\n",
    "\n",
    "cm = confusion_matrix(y_test, y_pred)\n",
    "print(\"confusion Matrix is :nn\",cm)\n",
    "\n",
    "\n",
    "print(\"f1 score for base model is : \" , f1_score(y_test,y_pred))\n",
    "\n",
    "print(\"roc_auc score for base model is :\" , roc_auc_score(y_test, y_pred_proba))\n",
    "\n",
    "#calculate average precision score which is the AUC for the precision recall curve\n",
    "print(\"average precision score : \", average_precision_score(y_test, y_pred_proba))\n",
    "\n",
    "precision, recall, th = precision_recall_curve(y_test, y_pred_proba)\n",
    "plt.plot(recall, precision, marker='.')\n",
    "\n",
    "plt.xlabel(\"Recall\")\n",
    "plt.ylabel(\"Precision\")\n",
    "plt.show()\n",
    "\n",
    "print(classification_report(y_test, y_pred))"
   ]
  },
  {
   "cell_type": "markdown",
   "id": "161a94ab",
   "metadata": {},
   "source": [
    "Gradient Boosting did not perform as well out of the box compared to Random Forests but did have a particularly higher recall meaning it did better at identifying the true fraud transactions"
   ]
  },
  {
   "cell_type": "markdown",
   "id": "338e73f2",
   "metadata": {},
   "source": [
    "# AdaBoost"
   ]
  },
  {
   "cell_type": "code",
   "execution_count": 41,
   "id": "d0cb08bb",
   "metadata": {},
   "outputs": [
    {
     "name": "stdout",
     "output_type": "stream",
     "text": [
      "confusion Matrix is :nn [[339875  46852]\n",
      " [   184   2092]]\n",
      "f1 score for base model is :  0.08168684107770403\n",
      "roc_auc score for base model is : 0.9677630466359464\n",
      "average precision score :  0.526416942224283\n"
     ]
    },
    {
     "data": {
      "image/png": "[encoded data removed]",
      "text/plain": [
       "<Figure size 432x288 with 1 Axes>"
      ]
     },
     "metadata": {
      "needs_background": "light"
     },
     "output_type": "display_data"
    },
    {
     "name": "stdout",
     "output_type": "stream",
     "text": [
      "              precision    recall  f1-score   support\n",
      "\n",
      "           0       1.00      0.88      0.94    386727\n",
      "           1       0.04      0.92      0.08      2276\n",
      "\n",
      "    accuracy                           0.88    389003\n",
      "   macro avg       0.52      0.90      0.51    389003\n",
      "weighted avg       0.99      0.88      0.93    389003\n",
      "\n"
     ]
    }
   ],
   "source": [
    "from sklearn.ensemble import AdaBoostClassifier\n",
    "\n",
    "pipeline = imbpipeline(steps = [['drop_cols', drop_cols_trans],\n",
    "                                ['preprocessor', preprocessor],\n",
    "                                ['smote', SMOTE(random_state=11)],\n",
    "                                ['model', AdaBoostClassifier()]])\n",
    "\n",
    "\n",
    "pipeline.fit(X_train, y_train)\n",
    "\n",
    "y_pred = pipeline.predict(X_test)\n",
    "\n",
    "# examine model\n",
    "\n",
    "y_pred_proba = pipeline.predict_proba(X_test)[:,1]\n",
    "\n",
    "\n",
    "cm = confusion_matrix(y_test, y_pred)\n",
    "print(\"confusion Matrix is :nn\",cm)\n",
    "\n",
    "\n",
    "print(\"f1 score for base model is : \" , f1_score(y_test,y_pred))\n",
    "\n",
    "print(\"roc_auc score for base model is :\" , roc_auc_score(y_test, y_pred_proba))\n",
    "\n",
    "#calculate average precision score which is the AUC for the precision recall curve\n",
    "print(\"average precision score : \", average_precision_score(y_test, y_pred_proba))\n",
    "\n",
    "precision, recall, th = precision_recall_curve(y_test, y_pred_proba)\n",
    "plt.plot(recall, precision, marker='.')\n",
    "\n",
    "plt.xlabel(\"Recall\")\n",
    "plt.ylabel(\"Precision\")\n",
    "plt.show()\n",
    "\n",
    "print(classification_report(y_test, y_pred))"
   ]
  },
  {
   "cell_type": "markdown",
   "id": "c41b8626",
   "metadata": {},
   "source": [
    "# Random Forest w/ Class Weight Balanced"
   ]
  },
  {
   "cell_type": "code",
   "execution_count": 43,
   "id": "3119a946",
   "metadata": {},
   "outputs": [
    {
     "name": "stdout",
     "output_type": "stream",
     "text": [
      "confusion Matrix is :nn [[381274   5453]\n",
      " [  1010   1266]]\n",
      "f1 score for base model is :  0.28148971650917176\n",
      "roc_auc score for base model is : 0.8594965787025878\n",
      "average precision score :  0.49495557121270345\n"
     ]
    },
    {
     "data": {
      "image/png": "[encoded data removed]",
      "text/plain": [
       "<Figure size 432x288 with 1 Axes>"
      ]
     },
     "metadata": {
      "needs_background": "light"
     },
     "output_type": "display_data"
    },
    {
     "name": "stdout",
     "output_type": "stream",
     "text": [
      "              precision    recall  f1-score   support\n",
      "\n",
      "           0       1.00      0.99      0.99    386727\n",
      "           1       0.19      0.56      0.28      2276\n",
      "\n",
      "    accuracy                           0.98    389003\n",
      "   macro avg       0.59      0.77      0.64    389003\n",
      "weighted avg       0.99      0.98      0.99    389003\n",
      "\n"
     ]
    }
   ],
   "source": [
    "from sklearn.ensemble import RandomForestClassifier\n",
    "from sklearn.pipeline import Pipeline\n",
    "\n",
    "pipeline = Pipeline(steps = [['drop_cols', drop_cols_trans],\n",
    "                                ['preprocessor', preprocessor],\n",
    "                                ['model', RandomForestClassifier(class_weight=\"balanced\")]])\n",
    "\n",
    "\n",
    "pipeline.fit(X_train, y_train)\n",
    "\n",
    "y_pred = pipeline.predict(X_test)\n",
    "\n",
    "# examine model\n",
    "\n",
    "y_pred_proba = pipeline.predict_proba(X_test)[:,1]\n",
    "\n",
    "\n",
    "cm = confusion_matrix(y_test, y_pred)\n",
    "print(\"confusion Matrix is :nn\",cm)\n",
    "\n",
    "\n",
    "print(\"f1 score for base model is : \" , f1_score(y_test,y_pred))\n",
    "\n",
    "print(\"roc_auc score for base model is :\" , roc_auc_score(y_test, y_pred_proba))\n",
    "\n",
    "#calculate average precision score which is the AUC for the precision recall curve\n",
    "print(\"average precision score : \", average_precision_score(y_test, y_pred_proba))\n",
    "\n",
    "precision, recall, th = precision_recall_curve(y_test, y_pred_proba)\n",
    "plt.plot(recall, precision, marker='.')\n",
    "\n",
    "plt.xlabel(\"Recall\")\n",
    "plt.ylabel(\"Precision\")\n",
    "plt.show()\n",
    "\n",
    "print(classification_report(y_test, y_pred))"
   ]
  },
  {
   "cell_type": "markdown",
   "id": "95de4465",
   "metadata": {},
   "source": [
    "Despite lower recall. overall F1 score better with Random Forest when class weight balaneced parameter set. This may be a better model to tune since we dont want to flag non-fraud purchases as fraudulent as this could cause customer impact. With that said, this would be a cost benefit analysis to consider at this point in a real life scenario"
   ]
  },
  {
   "cell_type": "markdown",
   "id": "bb652394",
   "metadata": {},
   "source": [
    "# Random Forest w/ Class Weight Balance Tuning"
   ]
  },
  {
   "cell_type": "code",
   "execution_count": 46,
   "id": "92eb090b",
   "metadata": {},
   "outputs": [
    {
     "name": "stdout",
     "output_type": "stream",
     "text": [
      "Best Score: 0.3637473417959396\n",
      "Best Hyperparameters: {'model__n_estimators': 10, 'model__min_samples_split': 2, 'model__min_samples_leaf': 4, 'model__max_depth': 25}\n"
     ]
    }
   ],
   "source": [
    "#hyperparameter tuning for Random Forest\n",
    "\n",
    "from sklearn.model_selection import RandomizedSearchCV\n",
    "\n",
    "pipeline = Pipeline(steps = [['drop_cols', drop_cols_trans],\n",
    "                                ['preprocessor', preprocessor],\n",
    "                                ['model', RandomForestClassifier(class_weight=\"balanced\")]])\n",
    "\n",
    "\n",
    "params = {'model__n_estimators': [10,20,50, 60, 100, 150], \n",
    "'model__max_depth' : [2, 8, 15, 25],\n",
    "'model__min_samples_leaf' :[1, 2, 4],\n",
    "'model__min_samples_split' : [2, 5, 10] } \n",
    "\n",
    "\n",
    "\n",
    "search = RandomizedSearchCV(pipeline, params, n_iter=20, scoring='f1', n_jobs=-1)\n",
    "\n",
    "result = search.fit(X_train, y_train)\n",
    "\n",
    "# summarize result\n",
    "print('Best Score: %s' % result.best_score_)\n",
    "print('Best Hyperparameters: %s' % result.best_params_)\n",
    "\n",
    "\n",
    "\n"
   ]
  },
  {
   "cell_type": "code",
   "execution_count": 47,
   "id": "dd1498a1",
   "metadata": {},
   "outputs": [
    {
     "name": "stdout",
     "output_type": "stream",
     "text": [
      "Best hyperparams: {'model__max_depth': 25, 'model__min_samples_leaf': 4, 'model__n_estimators': 10}\n",
      "Best Score: 0.38194828628643146\n",
      "Best estimator: Pipeline(steps=[('drop_cols',\n",
      "                 FunctionTransformer(func=<function drop_cols at 0x000001C60F8383A8>,\n",
      "                                     kw_args={'cols_to_drop': ['trans_date_trans_time',\n",
      "                                                               'category',\n",
      "                                                               'merchant',\n",
      "                                                               'street', 'city',\n",
      "                                                               'state', 'zip',\n",
      "                                                               'lat', 'long',\n",
      "                                                               'city_pop',\n",
      "                                                               'job', 'dob',\n",
      "                                                               'trans_num',\n",
      "                                                               'unix_time',\n",
      "                                                               'merch_lat',\n",
      "                                                               'merch_long',\n",
      "                                                               'hour',\n",
      "                                                               'weekday',\n",
      "                                                               'region',\n",
      "                                                               'age']})),\n",
      "                ('preprocessor',\n",
      "                 ColumnTransformer(remainder='passthrough',\n",
      "                                   transformers=[('scaler', StandardScaler(),\n",
      "                                                  ['amt']),\n",
      "                                                 ('encoder',\n",
      "                                                  OneHotEncoder(handle_unknown='ignore',\n",
      "                                                                sparse=False),\n",
      "                                                  ['gender'])])),\n",
      "                ['model',\n",
      "                 RandomForestClassifier(class_weight='balanced', max_depth=25,\n",
      "                                        min_samples_leaf=4, n_estimators=10)]])\n"
     ]
    }
   ],
   "source": [
    "#hyperparaeter tuning with Grid search\n",
    "\n",
    "from sklearn.model_selection import GridSearchCV\n",
    "\n",
    "pipeline = Pipeline(steps = [['drop_cols', drop_cols_trans],\n",
    "                                ['preprocessor', preprocessor],\n",
    "                                ['model', RandomForestClassifier(class_weight=\"balanced\")]])\n",
    "\n",
    "params = {'model__n_estimators': [10,15, 20], \n",
    "'model__max_depth' : [20, 25],\n",
    "'model__min_samples_leaf' :[2, 4, 6] } \n",
    "\n",
    "grid_search_rf = GridSearchCV(pipeline, param_grid=params, n_jobs=-1, cv=3, scoring='f1')\n",
    "grid_search_rf.fit(X_train, y_train)\n",
    "\n",
    "print('Best hyperparams: %s' % grid_search_rf.best_params_)\n",
    "print('Best Score: %s' % grid_search_rf.best_score_)\n",
    "print('Best estimator: %s' % grid_search_rf.best_estimator_)"
   ]
  },
  {
   "cell_type": "markdown",
   "id": "5fadee60",
   "metadata": {},
   "source": [
    "improved F-1 score to 38 percent. Not great but still an improvement. Create final model and asses on test data"
   ]
  },
  {
   "cell_type": "markdown",
   "id": "24a4f56b",
   "metadata": {},
   "source": [
    "# Final Model"
   ]
  },
  {
   "cell_type": "code",
   "execution_count": 48,
   "id": "0ebfee94",
   "metadata": {},
   "outputs": [
    {
     "name": "stdout",
     "output_type": "stream",
     "text": [
      "confusion Matrix is :nn [[381501   5226]\n",
      " [   690   1586]]\n",
      "f1 score for base model is :  0.34903169014084506\n",
      "roc_auc score for base model is : 0.9028811919261328\n",
      "average precision score :  0.6080816134551607\n"
     ]
    },
    {
     "data": {
      "image/png": "[encoded data removed]",
      "text/plain": [
       "<Figure size 432x288 with 1 Axes>"
      ]
     },
     "metadata": {
      "needs_background": "light"
     },
     "output_type": "display_data"
    },
    {
     "name": "stdout",
     "output_type": "stream",
     "text": [
      "              precision    recall  f1-score   support\n",
      "\n",
      "           0       1.00      0.99      0.99    386727\n",
      "           1       0.23      0.70      0.35      2276\n",
      "\n",
      "    accuracy                           0.98    389003\n",
      "   macro avg       0.62      0.84      0.67    389003\n",
      "weighted avg       0.99      0.98      0.99    389003\n",
      "\n"
     ]
    }
   ],
   "source": [
    "pipeline = Pipeline(steps = [['drop_cols', drop_cols_trans],\n",
    "                                ['preprocessor', preprocessor],\n",
    "                                ['model', RandomForestClassifier(class_weight='balanced', max_depth=25,\n",
    "                                        min_samples_leaf=4, n_estimators=10)]])\n",
    "\n",
    "\n",
    "pipeline.fit(X_train, y_train)\n",
    "\n",
    "y_pred = pipeline.predict(X_test)\n",
    "\n",
    "# examine model\n",
    "\n",
    "y_pred_proba = pipeline.predict_proba(X_test)[:,1]\n",
    "\n",
    "\n",
    "cm = confusion_matrix(y_test, y_pred)\n",
    "print(\"confusion Matrix is :nn\",cm)\n",
    "\n",
    "\n",
    "print(\"f1 score for base model is : \" , f1_score(y_test,y_pred))\n",
    "\n",
    "print(\"roc_auc score for base model is :\" , roc_auc_score(y_test, y_pred_proba))\n",
    "\n",
    "#calculate average precision score which is the AUC for the precision recall curve\n",
    "print(\"average precision score : \", average_precision_score(y_test, y_pred_proba))\n",
    "\n",
    "precision, recall, th = precision_recall_curve(y_test, y_pred_proba)\n",
    "plt.plot(recall, precision, marker='.')\n",
    "\n",
    "plt.xlabel(\"Recall\")\n",
    "plt.ylabel(\"Precision\")\n",
    "plt.show()\n",
    "\n",
    "print(classification_report(y_test, y_pred))"
   ]
  },
  {
   "cell_type": "markdown",
   "id": "13bd07ac",
   "metadata": {},
   "source": [
    "Summary: We tried several different algorithims, Random Forest being the best out of the box. With parameter tuning, we were able to increase the f1 score from 28 to 35 percent. The final model still has alot of improvements to be made and decisions about the trade off between precision/recall will help shape future developments on this dataset\n",
    "\n",
    "Future Considerations : Dimensonality Reduction, Explore other features, Hyperparameter tuning other algorithims, more hyper tuning for Random Forest, assesing financial impact of approving a fraud charge, tweaking precision/recall thresholds based on business strategy"
   ]
  }
 ],
 "metadata": {
  "kernelspec": {
   "display_name": "Python 3 (ipykernel)",
   "language": "python",
   "name": "python3"
  },
  "language_info": {
   "codemirror_mode": {
    "name": "ipython",
    "version": 3
   },
   "file_extension": ".py",
   "mimetype": "text/x-python",
   "name": "python",
   "nbconvert_exporter": "python",
   "pygments_lexer": "ipython3",
   "version": "3.7.6"
  },
  "toc": {
   "base_numbering": 1,
   "nav_menu": {},
   "number_sections": true,
   "sideBar": true,
   "skip_h1_title": false,
   "title_cell": "Table of Contents",
   "title_sidebar": "Contents",
   "toc_cell": false,
   "toc_position": {},
   "toc_section_display": true,
   "toc_window_display": true
  }
 },
 "nbformat": 4,
 "nbformat_minor": 5
}
